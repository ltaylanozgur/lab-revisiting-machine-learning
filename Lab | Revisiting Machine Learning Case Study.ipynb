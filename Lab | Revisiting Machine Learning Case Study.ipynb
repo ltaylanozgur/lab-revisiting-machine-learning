{
 "cells": [
  {
   "cell_type": "markdown",
   "id": "7ae0df9e",
   "metadata": {
    "id": "7BxdS3wjgulL"
   },
   "source": [
    "# 7.01 Lesson 1 key concepts\n",
    "## Reading the data"
   ]
  },
  {
   "cell_type": "code",
   "execution_count": null,
   "id": "c72115a7",
   "metadata": {
    "id": "uQDtuTpIgulR"
   },
   "outputs": [],
   "source": [
    "import pandas as pd\n",
    "import numpy as np\n",
    "import matplotlib.pyplot as plt\n",
    "import seaborn as sns \n",
    "pd.set_option('display.max_columns', None)\n"
   ]
  },
  {
   "cell_type": "code",
   "execution_count": null,
   "id": "8ad907c7",
   "metadata": {
    "id": "B9-PcfNB5K4d",
    "outputId": "631e3d83-37f3-4346-cc5b-a27f207c43fc",
    "scrolled": true
   },
   "outputs": [],
   "source": [
    "data = pd.read_csv('learningSet.csv')"
   ]
  },
  {
   "cell_type": "code",
   "execution_count": null,
   "id": "cdcd03de",
   "metadata": {
    "colab": {
     "base_uri": "https://localhost:8080/",
     "height": 270
    },
    "id": "IhIQGVCo45Gf",
    "outputId": "d144344c-fa77-459f-aa9b-260814431a05"
   },
   "outputs": [],
   "source": [
    "print(data.shape)\n",
    "data.head(10)"
   ]
  },
  {
   "cell_type": "code",
   "execution_count": null,
   "id": "6b4c3f65",
   "metadata": {
    "colab": {
     "base_uri": "https://localhost:8080/"
    },
    "id": "ch4kkMnKgulS",
    "outputId": "5b307dfb-e0a4-4086-9199-d3d047809394"
   },
   "outputs": [],
   "source": [
    "data['TARGET_B'].value_counts() # did they make a donation or not\n",
    "# whether or not they donate. binary.\n",
    "# record of everyone send mail. "
   ]
  },
  {
   "cell_type": "code",
   "execution_count": null,
   "id": "184851a7",
   "metadata": {
    "colab": {
     "base_uri": "https://localhost:8080/"
    },
    "id": "Am5x0WrPgulT",
    "outputId": "24140373-7ff0-42b4-e64f-4d234295b435",
    "scrolled": true
   },
   "outputs": [],
   "source": [
    "data['TARGET_D'].describe() # mean value of donation 0.79\n",
    "\n",
    "# amount of money that people donate"
   ]
  },
  {
   "cell_type": "code",
   "execution_count": null,
   "id": "f22453e0",
   "metadata": {},
   "outputs": [],
   "source": [
    "95412 * (0.793 - 0.68) # (mean donation for all people minus cost of mailing piece) * number of mailing pieces\n"
   ]
  },
  {
   "cell_type": "code",
   "execution_count": null,
   "id": "b7c06f80",
   "metadata": {
    "id": "saUyjKlJuRYN",
    "outputId": "055881ef-5248-4530-e3bd-0bd5af034812",
    "scrolled": false
   },
   "outputs": [],
   "source": [
    "data[data['TARGET_B']>0]['TARGET_D'].describe() # people who have donated\n",
    "# minimum and maximum donations 1 and 200"
   ]
  },
  {
   "cell_type": "code",
   "execution_count": null,
   "id": "295d9518",
   "metadata": {},
   "outputs": [],
   "source": [
    "4843 * (15.62 - 0.68) # (mean donation for all people who made a donation minus cost of mailing piece) * number of mailing pieces\n"
   ]
  },
  {
   "cell_type": "markdown",
   "id": "a15982c5",
   "metadata": {
    "id": "Jb_oNbVf5h70"
   },
   "source": [
    "To solve this problem we will first build a classification model to predict who will more likely respond and then for those respondents, we will build a regression model to predict the donation amount.\n",
    "\n",
    "Then we can use the cost matrix to calculate the total benefit from the donations\n",
    "\n",
    "Some of the challenges with the dataset are as follows:\n",
    "\n",
    "Large number of features: The data set has over 450 features. Hence selecting the right features for the model is very critical and at the same time it is not easy as the same traditional ways of removing features is not effective given the large number of features. Apart from feature selection, feature extraction (creating your own features using the existing features) is also not easy in this case.\n",
    "Sparsity of the dataset: There are a lot of features with a large number of null values.\n",
    "Data imbalance: For developing a classification, there is a huge imbalance in the training dataset with only approximately 5000 values for one category as compared to cover 95,000 instances for the other category."
   ]
  },
  {
   "cell_type": "code",
   "execution_count": null,
   "id": "a371e736",
   "metadata": {},
   "outputs": [],
   "source": [
    "# high number of features seems better. but there is a mathematical limit.\n",
    "\n",
    "# this is an imbalanced dataset."
   ]
  },
  {
   "cell_type": "markdown",
   "id": "9a878ba8",
   "metadata": {
    "id": "DS1LknszgulT"
   },
   "source": [
    "# 7.01 Lesson 2 key concepts\n",
    "## Review data cleaning process"
   ]
  },
  {
   "cell_type": "markdown",
   "id": "4e88ac0f",
   "metadata": {
    "id": "5HUMkzE-7b62"
   },
   "source": [
    "There are a lot of columns that have a very high percentage of null values. It is a highly sparse dataset. \n",
    "We can decide on a threshold and then remove those variables. There is no rule of thumb to decide on this threshold value. \n",
    "Sometimes it can as low as 25%-30%. And sometimes in some data sets you might find that even though there are more than 50% missing values in a column, you might have to include that variable in your analysis. \n",
    "A lot of it depends on the business context as well. In this case we will take this threshold to be 25% and then check the definitions of the columns filtered, to see if there is any column that we might want to keep."
   ]
  },
  {
   "cell_type": "code",
   "execution_count": null,
   "id": "621a385d",
   "metadata": {
    "colab": {
     "base_uri": "https://localhost:8080/",
     "height": 419
    },
    "id": "Cd7wYAqXgulU",
    "outputId": "0b3ecdf4-86e7-4e3f-e4e5-82aeb803566a",
    "scrolled": false
   },
   "outputs": [],
   "source": [
    "nulls_percent_df = pd.DataFrame(data.isna().sum()/len(data)).reset_index() # fraction of null values\n",
    "nulls_percent_df.columns = ['column_name', 'nulls_percentage']\n",
    "nulls_percent_df"
   ]
  },
  {
   "cell_type": "code",
   "execution_count": null,
   "id": "1f15c038",
   "metadata": {
    "colab": {
     "base_uri": "https://localhost:8080/",
     "height": 419
    },
    "id": "9rvjMejT6U41",
    "outputId": "215f14c7-de3f-44b9-a6bc-0df6320ff81d"
   },
   "outputs": [],
   "source": [
    "nulls_percent_df[nulls_percent_df['nulls_percentage']!=0].head(60)\n"
   ]
  },
  {
   "cell_type": "code",
   "execution_count": null,
   "id": "cf3d0245",
   "metadata": {
    "colab": {
     "base_uri": "https://localhost:8080/",
     "height": 419
    },
    "id": "9rvjMejT6U41",
    "outputId": "215f14c7-de3f-44b9-a6bc-0df6320ff81d"
   },
   "outputs": [],
   "source": [
    "nulls_percent_df[nulls_percent_df['nulls_percentage']!=0].tail(32)"
   ]
  },
  {
   "cell_type": "code",
   "execution_count": null,
   "id": "13dbe8c7",
   "metadata": {
    "colab": {
     "base_uri": "https://localhost:8080/"
    },
    "id": "H27JCHqIgulU",
    "outputId": "49b59bd3-84ac-492f-d810-cfa5d0657006"
   },
   "outputs": [],
   "source": [
    "columns_above_threshold = nulls_percent_df[nulls_percent_df['nulls_percentage']>0.25]\n",
    "columns_above_threshold['column_name']"
   ]
  },
  {
   "cell_type": "code",
   "execution_count": null,
   "id": "022358f9",
   "metadata": {
    "colab": {
     "base_uri": "https://localhost:8080/"
    },
    "id": "BnYtuY7CgulV",
    "outputId": "0e77b1a5-5147-48b1-f703-047413b3ccbd",
    "scrolled": true
   },
   "outputs": [],
   "source": [
    "drop_columns_list = list(columns_above_threshold['column_name'])\n",
    "print(drop_columns_list)"
   ]
  },
  {
   "cell_type": "markdown",
   "id": "52193ea7",
   "metadata": {
    "id": "qy3vrGB3gulV"
   },
   "source": [
    "From the list above that includes the columns that have over 25% null values, you discussed with your manager you were told that the following columns are important -> wealth1, wealth2\n",
    "We will remove these variables from the above list \n",
    "RDATE3, RAMNT_3 are important but they have too many null values "
   ]
  },
  {
   "cell_type": "markdown",
   "id": "2ceea261",
   "metadata": {
    "id": "z4SmdgRzgulV"
   },
   "source": [
    "# 7.01 Activity 2\n",
    "## Remove columns with null values greater than a specified threshold"
   ]
  },
  {
   "cell_type": "code",
   "execution_count": null,
   "id": "583bbebb",
   "metadata": {
    "id": "Yv-nx-W8gulW"
   },
   "outputs": [],
   "source": [
    "drop_columns_list.remove('WEALTH1')"
   ]
  },
  {
   "cell_type": "code",
   "execution_count": null,
   "id": "728339d3",
   "metadata": {
    "id": "7CFRhSasgulW"
   },
   "outputs": [],
   "source": [
    "drop_columns_list.remove('WEALTH2')"
   ]
  },
  {
   "cell_type": "code",
   "execution_count": null,
   "id": "e30323c4",
   "metadata": {},
   "outputs": [],
   "source": [
    "len(drop_columns_list)"
   ]
  },
  {
   "cell_type": "code",
   "execution_count": null,
   "id": "80166e2f",
   "metadata": {},
   "outputs": [],
   "source": [
    "# for i in ['WEALTH1','WEALTH2']:\n",
    "#     drop_columns_list.remove(i)\n",
    "# print(drop_columns_list)"
   ]
  },
  {
   "cell_type": "code",
   "execution_count": null,
   "id": "871657b6",
   "metadata": {
    "scrolled": true
   },
   "outputs": [],
   "source": [
    "data = data.drop(columns=drop_columns_list)\n",
    "# data = data.drop(drop_columns_list, axis=1)\n",
    "data"
   ]
  },
  {
   "cell_type": "markdown",
   "id": "4ad6c8d8",
   "metadata": {
    "id": "i8M_c2RcgulW"
   },
   "source": [
    "## More data cleaning"
   ]
  },
  {
   "cell_type": "code",
   "execution_count": null,
   "id": "6463072f",
   "metadata": {
    "colab": {
     "base_uri": "https://localhost:8080/",
     "height": 253
    },
    "id": "k8LfcsVQgulW",
    "outputId": "e04bff62-a4df-4e29-d30d-5d9b28d769ab"
   },
   "outputs": [],
   "source": [
    "data.head()"
   ]
  },
  {
   "cell_type": "markdown",
   "id": "ac30dcc5",
   "metadata": {
    "id": "J16HXxbUgulX"
   },
   "source": [
    "We can see that there are a lot of columns that have blank spaces which represent no value in this case. \n",
    "They were not identified as null values by python as they are empty spaces that are read as character values by \n",
    "python. We will replace those values by NaNs and repeat the analysis \n",
    "\n",
    "Before we do that we will replace the blank values from the column \"MAILCODE\" by \"A\" which would mean the address is okay (pl check the definition of the variable in the description)"
   ]
  },
  {
   "cell_type": "code",
   "execution_count": null,
   "id": "00b78d18",
   "metadata": {
    "colab": {
     "base_uri": "https://localhost:8080/"
    },
    "id": "2ma4YVP7gulX",
    "outputId": "05a3358b-20c6-4738-d239-bbf3901a266f"
   },
   "outputs": [],
   "source": [
    "data['MAILCODE'].value_counts()"
   ]
  },
  {
   "cell_type": "code",
   "execution_count": null,
   "id": "28c7b169",
   "metadata": {
    "id": "Il6fU7EVgulX"
   },
   "outputs": [],
   "source": [
    "data['MAILCODE'] = data['MAILCODE'].apply(lambda x: x.replace(\" \", \"A\"))\n",
    "\n",
    "# replace all space values with A\n",
    "\n",
    "# FOR PRACTICAL REASONS, WE WANT TO KNOW WHETHER MAIL ADDRESS IS CORRECT OR NOT \n"
   ]
  },
  {
   "cell_type": "code",
   "execution_count": null,
   "id": "5167a52f",
   "metadata": {
    "id": "1XrbY5EqgulX"
   },
   "outputs": [],
   "source": [
    "# Now we can replace the rest space characters in other columns with np.NaN\n"
   ]
  },
  {
   "cell_type": "code",
   "execution_count": null,
   "id": "7a8d0ab1",
   "metadata": {
    "id": "TLGZ_CWBgulY"
   },
   "outputs": [],
   "source": [
    "data = data.apply(lambda x: x.replace(\" \", np.NaN))"
   ]
  },
  {
   "cell_type": "code",
   "execution_count": null,
   "id": "08c5b709",
   "metadata": {
    "colab": {
     "base_uri": "https://localhost:8080/",
     "height": 253
    },
    "id": "SJL4ENIggulY",
    "outputId": "42d7c4b7-5f40-4c61-e1b1-6c2b76ff982f"
   },
   "outputs": [],
   "source": [
    "data.head()"
   ]
  },
  {
   "cell_type": "markdown",
   "id": "cfe87759",
   "metadata": {
    "id": "sNFGy97PgulY"
   },
   "source": [
    "# 7.01 Activity 3\n",
    "## Remove columns with null values greater than a specified threshold"
   ]
  },
  {
   "cell_type": "markdown",
   "id": "8945f54e",
   "metadata": {
    "id": "b93Maz-dgulZ"
   },
   "source": [
    "We would again repeat the same exercise as the last time. We will discuss it with the team, manager, and/or other stakeholders to see which columns we need to retain here. \n",
    "\n",
    "Like last time we will keep the following -> wealth1, wealth2 along with these VETERANS, SOLIH"
   ]
  },
  {
   "cell_type": "code",
   "execution_count": null,
   "id": "82dc912e",
   "metadata": {
    "id": "6mroUsC0gulY"
   },
   "outputs": [],
   "source": [
    "nulls_percent_df = pd.DataFrame(data.isna().sum()/len(data)).reset_index() # fraction of null values\n",
    "nulls_percent_df.columns = ['column_name', 'nulls_percentage']\n",
    "nulls_percent_df"
   ]
  },
  {
   "cell_type": "code",
   "execution_count": null,
   "id": "e713236b",
   "metadata": {
    "id": "XIf06Jn4gulZ"
   },
   "outputs": [],
   "source": [
    "columns_above_threshold = nulls_percent_df[nulls_percent_df['nulls_percentage']>0.25]\n",
    "columns_above_threshold['column_name']"
   ]
  },
  {
   "cell_type": "code",
   "execution_count": null,
   "id": "afb9beab",
   "metadata": {
    "id": "oq1hxMtpgulZ",
    "scrolled": true
   },
   "outputs": [],
   "source": [
    "drop_columns_list = list(columns_above_threshold['column_name'])\n",
    "print(drop_columns_list)"
   ]
  },
  {
   "cell_type": "code",
   "execution_count": null,
   "id": "2d64051f",
   "metadata": {},
   "outputs": [],
   "source": [
    "for i in ['WEALTH1','WEALTH2','VETERANS','SOLIH']:\n",
    "    drop_columns_list.remove(i)\n",
    "print(drop_columns_list)"
   ]
  },
  {
   "cell_type": "code",
   "execution_count": null,
   "id": "3740669f",
   "metadata": {},
   "outputs": [],
   "source": [
    "len(drop_columns_list)"
   ]
  },
  {
   "cell_type": "code",
   "execution_count": null,
   "id": "1eb651cb",
   "metadata": {},
   "outputs": [],
   "source": [
    "data = data.drop(columns=drop_columns_list)\n",
    "# data = data.drop(drop_columns_list, axis=1)\n",
    "data"
   ]
  },
  {
   "cell_type": "markdown",
   "id": "9231f3f2",
   "metadata": {
    "id": "bgXoo7VHgula"
   },
   "source": [
    "# 7.01 Lesson 4 key concepts\n",
    "## Separating Target, Numerical Features, and Categorical Features"
   ]
  },
  {
   "cell_type": "markdown",
   "id": "d8ce766e",
   "metadata": {
    "id": "bHi0yh0V8yY_"
   },
   "source": [
    "Since we have a huge number of features, it would be easier to work independently on numerical features and categorical features.\n",
    "\n",
    "For the target variables, for now we will retain them both together. But later, we will build a classification model first where we would need the column TARGET_B only."
   ]
  },
  {
   "cell_type": "code",
   "execution_count": null,
   "id": "8eead186",
   "metadata": {
    "colab": {
     "base_uri": "https://localhost:8080/",
     "height": 204
    },
    "id": "3zRiRPxIgula",
    "outputId": "45c5928e-d637-4113-ef3c-3c3975d4439f"
   },
   "outputs": [],
   "source": [
    "Y = data[['TARGET_B', 'TARGET_D']]\n",
    "Y.head()\n",
    "\n",
    "# target that consists of two columns. upper case Y"
   ]
  },
  {
   "cell_type": "code",
   "execution_count": null,
   "id": "6b27f998",
   "metadata": {
    "colab": {
     "base_uri": "https://localhost:8080/",
     "height": 253
    },
    "id": "Jw6Wk3Z-gula",
    "outputId": "1f68c61d-de2e-47ab-9b6d-b5940bd564b2"
   },
   "outputs": [],
   "source": [
    "numerical = data.select_dtypes(np.number)\n",
    "numerical = numerical.drop(columns = ['TARGET_B', 'TARGET_D'])\n",
    "numerical.head()"
   ]
  },
  {
   "cell_type": "code",
   "execution_count": null,
   "id": "96565506",
   "metadata": {
    "id": "24AAOgbyuRYg",
    "outputId": "b6470dfc-fd1b-4d62-98b8-c7d6c3c1d264"
   },
   "outputs": [],
   "source": [
    "numerical.shape"
   ]
  },
  {
   "cell_type": "code",
   "execution_count": null,
   "id": "060e28ff",
   "metadata": {
    "colab": {
     "base_uri": "https://localhost:8080/",
     "height": 224
    },
    "id": "M3aMTkVEgulb",
    "outputId": "2e479ca6-bbf7-4bc0-cc1f-29a0daaa81fa",
    "scrolled": true
   },
   "outputs": [],
   "source": [
    "categorical = data.select_dtypes(object)\n",
    "categorical.head()"
   ]
  },
  {
   "cell_type": "code",
   "execution_count": null,
   "id": "2d6fabe1",
   "metadata": {
    "id": "cOWVZQv6uRYh",
    "outputId": "37ca454e-f5a3-44a0-a33f-a8a4cca2045f"
   },
   "outputs": [],
   "source": [
    "categorical.shape"
   ]
  },
  {
   "cell_type": "markdown",
   "id": "f91809ba",
   "metadata": {
    "id": "EqJRlqGJgulb"
   },
   "source": [
    "## Working with categorical columns"
   ]
  },
  {
   "cell_type": "markdown",
   "id": "5c17cd76",
   "metadata": {
    "id": "DCKecBEr9FA0"
   },
   "source": [
    "We will work with the categorical features first. Look at the columns one by one. Some of the operations which we will perform are:\n",
    "\n",
    "- Replace null values with the most occurring categories\n",
    "- Reduce the number of categories in a column by grouping\n",
    "\n",
    "It is important to note that some columns are defined by python as categorical/object types. There might be other columns defined as numerical that we want as categorical. We will look them later when we were working on numerical types."
   ]
  },
  {
   "cell_type": "code",
   "execution_count": null,
   "id": "be73e2a9",
   "metadata": {
    "colab": {
     "base_uri": "https://localhost:8080/"
    },
    "id": "sKt7l7_igulb",
    "outputId": "dc271eb4-7c46-4e57-c01d-4084fbad3e21"
   },
   "outputs": [],
   "source": [
    "categorical.isna().sum()/len(categorical)"
   ]
  },
  {
   "cell_type": "markdown",
   "id": "fc9c66cc",
   "metadata": {
    "id": "aXU1mWm_gulb"
   },
   "source": [
    "## Categorical Variables"
   ]
  },
  {
   "cell_type": "markdown",
   "id": "b3437264",
   "metadata": {
    "id": "JoX043m3gulc"
   },
   "source": [
    "Here we will try to reduce the number of categories. An ideal way would have been to group the states into \n",
    "regions. But in this case we will group all the states with counts less than 2500 into one category \"other\""
   ]
  },
  {
   "cell_type": "code",
   "execution_count": null,
   "id": "1f5adda6",
   "metadata": {
    "colab": {
     "base_uri": "https://localhost:8080/"
    },
    "id": "1JFCqWUZgulc",
    "outputId": "d34b76a5-7bb7-4c4b-c8b1-bfd2c3e85a5c"
   },
   "outputs": [],
   "source": [
    "df = pd.DataFrame(categorical['STATE'].value_counts()).reset_index()\n",
    "df\n",
    "\n",
    "# count: number of donations in each state\n"
   ]
  },
  {
   "cell_type": "code",
   "execution_count": null,
   "id": "0d239801",
   "metadata": {},
   "outputs": [],
   "source": [
    "df.columns = ['state', 'count']\n",
    "other_states = list(df[df['count']<2500]['state']) # count is less than 2500\n",
    "# other_states\n",
    "def clean_state(x):\n",
    "    if x in other_states:\n",
    "        return 'other'\n",
    "    else:\n",
    "        return x\n",
    "    \n",
    "categorical['STATE'] = list(map(clean_state, categorical['STATE']))\n"
   ]
  },
  {
   "cell_type": "code",
   "execution_count": null,
   "id": "6badecf4",
   "metadata": {
    "colab": {
     "base_uri": "https://localhost:8080/"
    },
    "id": "1pnj5v2_9a35",
    "outputId": "560d170d-d286-461e-d589-9a157ba80ec5"
   },
   "outputs": [],
   "source": [
    "categorical['STATE'].value_counts()"
   ]
  },
  {
   "cell_type": "markdown",
   "id": "f1f3f199",
   "metadata": {
    "id": "7XOWfN37gulc"
   },
   "source": [
    "# 7.01 Lab | Revisiting Machine Learning Case Study"
   ]
  },
  {
   "cell_type": "markdown",
   "id": "07519b89",
   "metadata": {},
   "source": [
    "Complete the following steps on the categorical columns in the dataset:\n",
    "\n",
    "Check for null values in all the columns\n",
    "\n",
    "Exclude the following variables by looking at the definitions. Create a new empty list called drop_list. We will append this list and then drop all the columns in this list later:\n",
    "\n",
    "OSOURCE - symbol definitions not provided, too many categories\n",
    "ZIP CODE - we are including state already\n",
    "Identify columns that over 85% missing values\n",
    "\n",
    "Remove those columns from the dataframe\n",
    "\n",
    "Reduce the number of categories in the column GENDER. The column should only have either \"M\" for males, \"F\" for females, and \"other\" for all the rest\n",
    "\n",
    "Note that there are a few null values in the column. We will first replace those null values using the code below:"
   ]
  },
  {
   "cell_type": "markdown",
   "id": "d3b6050f",
   "metadata": {},
   "source": [
    "## Check for null values in all the columns"
   ]
  },
  {
   "cell_type": "code",
   "execution_count": null,
   "id": "aba2f32c",
   "metadata": {},
   "outputs": [],
   "source": [
    "nulls_percent_df = pd.DataFrame(data.isna().sum()/len(data)).reset_index() # fraction of null values\n",
    "nulls_percent_df.columns = ['column_name', 'nulls_percentage']\n",
    "nulls_percent_df"
   ]
  },
  {
   "cell_type": "code",
   "execution_count": null,
   "id": "655b1ee8",
   "metadata": {},
   "outputs": [],
   "source": [
    "nulls_percent_df[nulls_percent_df['nulls_percentage']!=0].head(50)"
   ]
  },
  {
   "cell_type": "code",
   "execution_count": null,
   "id": "2212e90d",
   "metadata": {
    "scrolled": true
   },
   "outputs": [],
   "source": [
    "nulls_percent_df[nulls_percent_df['nulls_percentage']!=0].tail(50)"
   ]
  },
  {
   "cell_type": "markdown",
   "id": "1f5f2cef",
   "metadata": {},
   "source": [
    "## Exclude the OSOURCE and ZIP variables"
   ]
  },
  {
   "cell_type": "markdown",
   "id": "24aefeaa",
   "metadata": {},
   "source": [
    "## Identify columns that over 85% missing values"
   ]
  },
  {
   "cell_type": "code",
   "execution_count": null,
   "id": "3b86f44a",
   "metadata": {},
   "outputs": [],
   "source": [
    "columns_above_threshold = nulls_percent_df[nulls_percent_df['nulls_percentage']>0.85]\n",
    "columns_above_threshold['column_name']"
   ]
  },
  {
   "cell_type": "code",
   "execution_count": null,
   "id": "23289d1f",
   "metadata": {},
   "outputs": [],
   "source": [
    "drop_list = list(columns_above_threshold['column_name'])\n",
    "print(drop_list)"
   ]
  },
  {
   "cell_type": "code",
   "execution_count": null,
   "id": "0a469199",
   "metadata": {
    "scrolled": true
   },
   "outputs": [],
   "source": [
    "categorical = data.select_dtypes(object)\n",
    "categorical.head()"
   ]
  },
  {
   "cell_type": "code",
   "execution_count": null,
   "id": "d259d1e3",
   "metadata": {},
   "outputs": [],
   "source": [
    "for i in ['OSOURCE','ZIP']:\n",
    "    drop_list.remove(i)\n",
    "print(drop_list)\n",
    "\n",
    "# There is error here. Because drop_list list does not have 'OSOURCE','ZIP' columns.\n",
    "# That's why we can not drop (exclude) them from the list."
   ]
  },
  {
   "cell_type": "code",
   "execution_count": null,
   "id": "523ebc26",
   "metadata": {},
   "outputs": [],
   "source": [
    "data = data.drop(['OSOURCE', 'ZIP'], axis=1)"
   ]
  },
  {
   "cell_type": "markdown",
   "id": "31e11fac",
   "metadata": {},
   "source": [
    "## Remove those columns from the dataframe"
   ]
  },
  {
   "cell_type": "code",
   "execution_count": null,
   "id": "0b459027",
   "metadata": {
    "scrolled": true
   },
   "outputs": [],
   "source": [
    "data = data.drop(drop_list,axis=1)\n",
    "data"
   ]
  },
  {
   "cell_type": "markdown",
   "id": "225c4b0b",
   "metadata": {},
   "source": [
    "## Reduce the number of categories in the column GENDER."
   ]
  },
  {
   "cell_type": "code",
   "execution_count": null,
   "id": "d5ad807d",
   "metadata": {
    "scrolled": true
   },
   "outputs": [],
   "source": [
    "df = pd.DataFrame(data['GENDER'].value_counts()).reset_index()\n",
    "df"
   ]
  },
  {
   "cell_type": "code",
   "execution_count": null,
   "id": "a32db78e",
   "metadata": {},
   "outputs": [],
   "source": [
    "print(data['GENDER'].value_counts())"
   ]
  },
  {
   "cell_type": "code",
   "execution_count": null,
   "id": "a59815c4",
   "metadata": {},
   "outputs": [],
   "source": [
    "data['GENDER'].dtypes"
   ]
  },
  {
   "cell_type": "code",
   "execution_count": null,
   "id": "7d198e00",
   "metadata": {},
   "outputs": [],
   "source": [
    "data['GENDER'].isna().sum()"
   ]
  },
  {
   "cell_type": "code",
   "execution_count": null,
   "id": "1ad76172",
   "metadata": {},
   "outputs": [],
   "source": [
    "print(data['GENDER'].value_counts())\n",
    "data['GENDER'] = data['GENDER'].fillna('F')"
   ]
  },
  {
   "cell_type": "code",
   "execution_count": null,
   "id": "15250266",
   "metadata": {},
   "outputs": [],
   "source": [
    "df.columns = ['gender', 'count']\n",
    "other_genders = list(df[df['count']<35000]['gender'])\n",
    "\n",
    "def clean_gender(x):\n",
    "    if x in other_genders:\n",
    "        return 'other'\n",
    "    else:\n",
    "        return x\n",
    "    \n",
    "data['GENDER'] = list(map(clean_gender, data['GENDER']))\n"
   ]
  },
  {
   "cell_type": "code",
   "execution_count": null,
   "id": "6fca7a3c",
   "metadata": {
    "scrolled": true
   },
   "outputs": [],
   "source": [
    "data['GENDER'].value_counts()"
   ]
  },
  {
   "cell_type": "code",
   "execution_count": null,
   "id": "2f612ed5",
   "metadata": {},
   "outputs": [],
   "source": [
    "data['GENDER'].isna().sum()"
   ]
  },
  {
   "cell_type": "markdown",
   "id": "c787a752",
   "metadata": {
    "id": "ipaAeWcjgule"
   },
   "source": [
    "# 7.02"
   ]
  },
  {
   "cell_type": "markdown",
   "id": "7e2ea4a0",
   "metadata": {
    "id": "joA_cUkK-aCI"
   },
   "source": [
    "We will work on the column DOMAIN. Let's replace the null values with the category that is represented the most and then we will split the data into two columns DOMAIN_A and DOMAIN_B.\n",
    "\n",
    "- DOMAIN_A will consist of the first character from the DOMAIN\n",
    "- DOMAIN_B will consist of the second character from the DOMAIN\n",
    "\n",
    "Then we will drop the original column DOMAIN"
   ]
  },
  {
   "cell_type": "code",
   "execution_count": null,
   "id": "c598df2f",
   "metadata": {
    "colab": {
     "base_uri": "https://localhost:8080/"
    },
    "id": "OOLr8fnd-T4I",
    "outputId": "9cc761ba-cad6-471d-93fe-8423ad25fc8e",
    "scrolled": true
   },
   "outputs": [],
   "source": [
    "categorical['DOMAIN'].value_counts(dropna=False)"
   ]
  },
  {
   "cell_type": "code",
   "execution_count": null,
   "id": "cebf3ef3",
   "metadata": {
    "id": "auI-d8ZI-jtV",
    "outputId": "d817370c-d125-4bb3-e2ca-3cdbeeadc584"
   },
   "outputs": [],
   "source": [
    "categorical['DOMAIN'] = categorical['DOMAIN'].fillna('R2')"
   ]
  },
  {
   "cell_type": "code",
   "execution_count": null,
   "id": "67f8b692",
   "metadata": {
    "id": "r-AX-0Fy-5F2",
    "outputId": "56d59bab-5382-4110-f96b-32230f1173a2"
   },
   "outputs": [],
   "source": [
    "categorical['DOMAIN_A'] = list(map(lambda x: x[0], categorical['DOMAIN'])) # first character\n",
    "\n",
    "categorical['DOMAIN_B'] = list(map(lambda x: x[1], categorical['DOMAIN'])) # second character\n"
   ]
  },
  {
   "cell_type": "code",
   "execution_count": null,
   "id": "a731d058",
   "metadata": {},
   "outputs": [],
   "source": [
    "categorical.DOMAIN_A.value_counts()"
   ]
  },
  {
   "cell_type": "code",
   "execution_count": null,
   "id": "d1eb76bb",
   "metadata": {
    "id": "ejjxExwR_AWp"
   },
   "outputs": [],
   "source": [
    "categorical = categorical.drop(columns=['DOMAIN'])"
   ]
  },
  {
   "cell_type": "code",
   "execution_count": null,
   "id": "9d76f36f",
   "metadata": {
    "colab": {
     "base_uri": "https://localhost:8080/",
     "height": 224
    },
    "id": "GLyUipyZ_CwU",
    "outputId": "46a6bba3-f617-485c-a565-5456d246c5b1"
   },
   "outputs": [],
   "source": [
    "categorical.head()"
   ]
  },
  {
   "cell_type": "markdown",
   "id": "dba13970",
   "metadata": {
    "id": "LlsQT1bO_G8e"
   },
   "source": [
    "### Activity 2.1"
   ]
  },
  {
   "cell_type": "code",
   "execution_count": null,
   "id": "775381d9",
   "metadata": {},
   "outputs": [],
   "source": [
    "drop_list = []"
   ]
  },
  {
   "cell_type": "code",
   "execution_count": null,
   "id": "9d236e95",
   "metadata": {
    "executionInfo": {
     "elapsed": 6,
     "status": "ok",
     "timestamp": 1645451824375,
     "user": {
      "displayName": "Jan Molendijk",
      "photoUrl": "https://lh3.googleusercontent.com/a/default-user=s64",
      "userId": "00665875236133738524"
     },
     "user_tz": -60
    },
    "id": "szRb71rwC8LR"
   },
   "outputs": [],
   "source": [
    "categorical['MDMAUD'].value_counts(dropna=False)\n",
    "\n",
    "# major donor matrix code. since most of the data is unknown here we will drop this column.\n",
    "#  'X' indicates that the donor is not a major donor.\n",
    "# if xxxx we dont have any real values."
   ]
  },
  {
   "cell_type": "code",
   "execution_count": null,
   "id": "d12e81af",
   "metadata": {
    "executionInfo": {
     "elapsed": 5,
     "status": "ok",
     "timestamp": 1645451824376,
     "user": {
      "displayName": "Jan Molendijk",
      "photoUrl": "https://lh3.googleusercontent.com/a/default-user=s64",
      "userId": "00665875236133738524"
     },
     "user_tz": -60
    },
    "id": "3vPGnGeqgule"
   },
   "outputs": [],
   "source": [
    "categorical['MAILCODE'].value_counts(dropna=False)\n",
    "# drop mailcode\n",
    "# this column does not fit with the purpose of analysis who is more likely to donate\n",
    "# this column is more administrative thing."
   ]
  },
  {
   "cell_type": "code",
   "execution_count": null,
   "id": "6bf094b6",
   "metadata": {
    "id": "x4HKJfMWgule"
   },
   "outputs": [],
   "source": [
    "categorical['NOEXCH'].value_counts(dropna=False).index\n",
    "# categorical['NOEXCH'].value_counts(dropna=False)\n",
    "\n",
    "# there are so many zeros. this column does not give us many information. drop this column.\n",
    "# zero as number and as string\n",
    "# NOEXCH` | Do Not Exchange Flag (For list rental) <br /> _=can be exchanged <br /> X = do not exchange"
   ]
  },
  {
   "cell_type": "code",
   "execution_count": null,
   "id": "d5a8f27e",
   "metadata": {
    "id": "yyZ9zO8Cgulg"
   },
   "outputs": [],
   "source": [
    "#End Activity"
   ]
  },
  {
   "cell_type": "markdown",
   "id": "fa6b447f",
   "metadata": {
    "id": "1XEBuX6z_fGU"
   },
   "source": [
    "## MDMAUD_XXX are also like MDMAUD\n",
    "\n"
   ]
  },
  {
   "cell_type": "code",
   "execution_count": null,
   "id": "de3def76",
   "metadata": {
    "colab": {
     "base_uri": "https://localhost:8080/"
    },
    "id": "oYR1WQGrgulg",
    "outputId": "0e75eaac-0987-410f-a360-7b0432f9d8e9"
   },
   "outputs": [],
   "source": [
    "categorical['MDMAUD_R'].value_counts()"
   ]
  },
  {
   "cell_type": "code",
   "execution_count": null,
   "id": "561c8477",
   "metadata": {
    "id": "QfV5vXPe__OQ"
   },
   "outputs": [],
   "source": [
    "drop_list = drop_list + ['MDMAUD_R', 'MDMAUD_F','MDMAUD_A']"
   ]
  },
  {
   "cell_type": "markdown",
   "id": "3ebb26f4",
   "metadata": {
    "id": "5E2oG4yiAAZg"
   },
   "source": [
    "## Replacing NULL values"
   ]
  },
  {
   "cell_type": "code",
   "execution_count": null,
   "id": "d2040539",
   "metadata": {
    "colab": {
     "base_uri": "https://localhost:8080/"
    },
    "id": "XAvVonMEAKkq",
    "outputId": "2d7b21ef-7392-4903-cf83-59c106524649"
   },
   "outputs": [],
   "source": [
    "categorical['CLUSTER'].value_counts(dropna=False)"
   ]
  },
  {
   "cell_type": "code",
   "execution_count": null,
   "id": "05729a0c",
   "metadata": {
    "scrolled": true
   },
   "outputs": [],
   "source": [
    "categorical['CLUSTER'].sort_values().unique()"
   ]
  },
  {
   "cell_type": "code",
   "execution_count": null,
   "id": "c8641f11",
   "metadata": {},
   "outputs": [],
   "source": [
    "sorted(categorical['CLUSTER'].sort_values().index)"
   ]
  },
  {
   "cell_type": "code",
   "execution_count": null,
   "id": "0a32e6f3",
   "metadata": {
    "id": "nz2co7njgulg"
   },
   "outputs": [],
   "source": [
    "categorical['CLUSTER'] = categorical['CLUSTER'].fillna('40')"
   ]
  },
  {
   "cell_type": "code",
   "execution_count": null,
   "id": "c5bb49bc",
   "metadata": {
    "colab": {
     "base_uri": "https://localhost:8080/"
    },
    "id": "v07Wmcebgulg",
    "outputId": "0203f47d-8976-4a21-a0d1-29b9800d7aca"
   },
   "outputs": [],
   "source": [
    "categorical['HOMEOWNR'].value_counts(dropna=False)"
   ]
  },
  {
   "cell_type": "code",
   "execution_count": null,
   "id": "1cdfab81",
   "metadata": {
    "id": "kPIro4y5AXC4"
   },
   "outputs": [],
   "source": [
    "categorical['HOMEOWNR'] = categorical['HOMEOWNR'].fillna('U')"
   ]
  },
  {
   "cell_type": "code",
   "execution_count": null,
   "id": "5ea6c622",
   "metadata": {
    "colab": {
     "base_uri": "https://localhost:8080/"
    },
    "id": "1aT6EDPWgulh",
    "outputId": "5f7f5625-ada1-4703-e5df-4f099aa9149d"
   },
   "outputs": [],
   "source": [
    "categorical['GENDER'].value_counts(dropna=False)"
   ]
  },
  {
   "cell_type": "code",
   "execution_count": null,
   "id": "666fd558",
   "metadata": {
    "id": "Xc8HfrTrgulh"
   },
   "outputs": [],
   "source": [
    "#discuss why this makes more sense than the alternatives\n",
    "categorical['GENDER'] = categorical['GENDER'].fillna('F')"
   ]
  },
  {
   "cell_type": "markdown",
   "id": "96c17523",
   "metadata": {
    "id": "V_XWPAtoBT7k"
   },
   "source": [
    "### Activity 2.2.1"
   ]
  },
  {
   "cell_type": "code",
   "execution_count": null,
   "id": "ddd54197",
   "metadata": {
    "id": "Q_GD3dgVA0pe"
   },
   "outputs": [],
   "source": [
    "categorical['DATASRCE'].value_counts(dropna=False)"
   ]
  },
  {
   "cell_type": "code",
   "execution_count": null,
   "id": "7cfcba53",
   "metadata": {
    "id": "Bihmdzrdgulh"
   },
   "outputs": [],
   "source": [
    "categorical['GEOCODE2'].value_counts(dropna=False)"
   ]
  },
  {
   "cell_type": "code",
   "execution_count": null,
   "id": "7f31a232",
   "metadata": {
    "id": "5UUE3XVDA5JV"
   },
   "outputs": [],
   "source": [
    "categorical['DATASRCE'] = categorical['DATASRCE'].fillna('other')\n",
    "\n",
    "# metromail, polk, vender. replace NaN with 4 or other\n"
   ]
  },
  {
   "cell_type": "code",
   "execution_count": null,
   "id": "acb7d9e8",
   "metadata": {
    "id": "6DhlErgSBpJC"
   },
   "outputs": [],
   "source": [
    "categorical['GEOCODE2'] = categorical['GEOCODE2'].fillna('A')\n",
    "\n",
    "# replace NaN with A since it is the most frequent value."
   ]
  },
  {
   "cell_type": "code",
   "execution_count": null,
   "id": "8ef554c6",
   "metadata": {
    "scrolled": true
   },
   "outputs": [],
   "source": [
    "categorical.head()"
   ]
  },
  {
   "cell_type": "markdown",
   "id": "01a0137b",
   "metadata": {
    "id": "Zsievy73A84d"
   },
   "source": [
    "## Removing columns with similar information"
   ]
  },
  {
   "cell_type": "code",
   "execution_count": null,
   "id": "1fc92327",
   "metadata": {
    "colab": {
     "base_uri": "https://localhost:8080/"
    },
    "id": "ICkCQVFZgulh",
    "outputId": "8f8eaa6e-b020-4cd2-cc35-f3f9e5deeede"
   },
   "outputs": [],
   "source": [
    "categorical['RFA_6'].value_counts()"
   ]
  },
  {
   "cell_type": "code",
   "execution_count": null,
   "id": "3fffa50a",
   "metadata": {
    "id": "igaSHXgwguli"
   },
   "outputs": [],
   "source": [
    "# We will keep the column RFA_2X. We will delete rest of the columns \n",
    "\n",
    "for col_name in categorical.columns:\n",
    "    if \"RFA\" in col_name:\n",
    "        drop_list.append(col_name)       "
   ]
  },
  {
   "cell_type": "code",
   "execution_count": null,
   "id": "d53947c2",
   "metadata": {
    "colab": {
     "base_uri": "https://localhost:8080/"
    },
    "id": "p9GpZ4A7guli",
    "outputId": "e64b793a-d4bf-43a9-bcfc-c8caa441477e"
   },
   "outputs": [],
   "source": [
    "drop_list.remove('RFA_2R')\n",
    "drop_list.remove('RFA_2A')\n",
    "drop_list"
   ]
  },
  {
   "cell_type": "code",
   "execution_count": null,
   "id": "12d32d71",
   "metadata": {
    "colab": {
     "base_uri": "https://localhost:8080/",
     "height": 204
    },
    "id": "yud6-l57guli",
    "outputId": "d47e1e80-b02b-4495-c4d1-e2c6f941ccdb"
   },
   "outputs": [],
   "source": [
    "categorical = categorical.drop(columns=drop_list)\n",
    "categorical.head()"
   ]
  },
  {
   "cell_type": "code",
   "execution_count": null,
   "id": "38e47553",
   "metadata": {
    "colab": {
     "base_uri": "https://localhost:8080/"
    },
    "id": "hpvZ99o7guli",
    "outputId": "dacbee7d-fe75-4ac1-9551-005abe74e288"
   },
   "outputs": [],
   "source": [
    "categorical.isna().sum()"
   ]
  },
  {
   "cell_type": "markdown",
   "id": "3c7e8382",
   "metadata": {
    "id": "s3_M5nPHgulj"
   },
   "source": [
    "# Working with numerical columns "
   ]
  },
  {
   "cell_type": "code",
   "execution_count": null,
   "id": "724155c2",
   "metadata": {
    "colab": {
     "base_uri": "https://localhost:8080/",
     "height": 253
    },
    "id": "UX2paZWRgulj",
    "outputId": "3c4e134f-c748-48c7-bbde-bf94f8bf0151"
   },
   "outputs": [],
   "source": [
    "numerical.head()"
   ]
  },
  {
   "cell_type": "code",
   "execution_count": null,
   "id": "f6054e22",
   "metadata": {
    "colab": {
     "base_uri": "https://localhost:8080/"
    },
    "id": "l0EgXvhHgulj",
    "outputId": "75bb2ff3-4408-4498-bec8-d528956ba140"
   },
   "outputs": [],
   "source": [
    "numerical.shape"
   ]
  },
  {
   "cell_type": "code",
   "execution_count": null,
   "id": "7d845f97",
   "metadata": {
    "colab": {
     "base_uri": "https://localhost:8080/",
     "height": 700
    },
    "id": "GqnXMGfJgulj",
    "outputId": "b3cadb63-2d36-48e4-fb79-5b6dcb3f88ff"
   },
   "outputs": [],
   "source": [
    "df = pd.DataFrame(numerical.isna().sum()).reset_index()\n",
    "df.columns = ['column_name', 'nulls']\n",
    "df[df['nulls']>0]"
   ]
  },
  {
   "cell_type": "markdown",
   "id": "f8cb870e",
   "metadata": {
    "id": "97n9ff6QDV9D"
   },
   "source": [
    "### Activity 2.2.2"
   ]
  },
  {
   "cell_type": "markdown",
   "id": "1fd5c383",
   "metadata": {
    "id": "047dDKdLgulk"
   },
   "source": [
    "Remove the columns starting with ADATE_.\n",
    "We are assuming that the date when the previous mail was done is not significant in the respondents decision to give donation.\n",
    "They may or may not even remember when they received the mail in the previous years. \n",
    "And for the column ADATE_2, check the values in the column. \n",
    "If the values are pretty much the same, then remove this column as well."
   ]
  },
  {
   "cell_type": "code",
   "execution_count": null,
   "id": "fc02c48a",
   "metadata": {
    "id": "dOxRfEregulk"
   },
   "outputs": [],
   "source": [
    "drop_list = []\n",
    "for col_name in numerical.columns:\n",
    "    if 'ADATE' in col_name:\n",
    "        drop_list.append(col_name)"
   ]
  },
  {
   "cell_type": "code",
   "execution_count": null,
   "id": "2122050f",
   "metadata": {},
   "outputs": [],
   "source": [
    "numerical['ADATE_4'].value_counts()"
   ]
  },
  {
   "cell_type": "markdown",
   "id": "ead38c1e",
   "metadata": {
    "id": "GW40M2PMDcAf"
   },
   "source": [
    "### Filling NULL values with plots"
   ]
  },
  {
   "cell_type": "code",
   "execution_count": null,
   "id": "40b2cf89",
   "metadata": {},
   "outputs": [],
   "source": [
    "numerical['AGE'] = numerical[\"AGE\"].fillna(np.mean(numerical['AGE']))\n"
   ]
  },
  {
   "cell_type": "code",
   "execution_count": null,
   "id": "3f78d331",
   "metadata": {
    "colab": {
     "base_uri": "https://localhost:8080/",
     "height": 333
    },
    "id": "AOLfK9AJgulk",
    "outputId": "5736835e-3896-4933-cfc5-7c319abd7a51"
   },
   "outputs": [],
   "source": [
    "sns.distplot(numerical['AGE'])\n",
    "plt.show()\n",
    "#probably would be a bit better to use a predictive method here but this works"
   ]
  },
  {
   "cell_type": "code",
   "execution_count": null,
   "id": "8bf035a1",
   "metadata": {
    "scrolled": true
   },
   "outputs": [],
   "source": [
    "numerical['AGE'].value_counts()"
   ]
  },
  {
   "cell_type": "code",
   "execution_count": null,
   "id": "2513d216",
   "metadata": {
    "colab": {
     "base_uri": "https://localhost:8080/",
     "height": 333
    },
    "id": "i6g5PwINgull",
    "outputId": "1e8c65b5-ad95-45a4-d8c2-5e4dac3eafd0"
   },
   "outputs": [],
   "source": [
    "# sns.distplot(numerical['INCOME'])  # this will not work as there are NaNs in the column\n",
    "# sns.distplot(numerical[numerical['INCOME'].isna()==False]['INCOME']) \n",
    "sns.distplot(numerical['INCOME'])\n",
    "plt.show()\n",
    "\n",
    "# 7 possible values: categorical values"
   ]
  },
  {
   "cell_type": "code",
   "execution_count": null,
   "id": "aee49cb9",
   "metadata": {
    "colab": {
     "base_uri": "https://localhost:8080/"
    },
    "id": "RTizEfmEgull",
    "outputId": "dd6ae865-3118-432e-d77d-81772a5b4fab",
    "scrolled": true
   },
   "outputs": [],
   "source": [
    "# looks like the variable is actually categorical. We can verify it by using value_counts()\n",
    "\n",
    "print(numerical['INCOME'].value_counts(dropna=False))\n",
    "numerical['INCOME'] = numerical['INCOME'].astype(object)\n"
   ]
  },
  {
   "cell_type": "code",
   "execution_count": null,
   "id": "ba9f2dc4",
   "metadata": {},
   "outputs": [],
   "source": [
    "numerical.dtypes"
   ]
  },
  {
   "cell_type": "code",
   "execution_count": null,
   "id": "d666a0c6",
   "metadata": {
    "scrolled": true
   },
   "outputs": [],
   "source": [
    "numerical['INCOME']"
   ]
  },
  {
   "cell_type": "code",
   "execution_count": null,
   "id": "2f8c6357",
   "metadata": {},
   "outputs": [],
   "source": [
    "# numerical.INCOME = np.where(numerical['INCOME']=='5.0',5.0,numerical['INCOME'])\n",
    "\n",
    "# string 5.0 and numerical 5.0: "
   ]
  },
  {
   "cell_type": "code",
   "execution_count": null,
   "id": "84be7beb",
   "metadata": {
    "id": "qABaSC2cgull"
   },
   "outputs": [],
   "source": [
    "numerical['INCOME'] = numerical['INCOME'].fillna(5.0) \n",
    "\n",
    "# Replacing the null values with the most represented category\n",
    "# EARLIER WE DID THIS BY PREDICTING income FROM a number of other numeric fields\n"
   ]
  },
  {
   "cell_type": "code",
   "execution_count": null,
   "id": "4343a925",
   "metadata": {},
   "outputs": [],
   "source": [
    "numerical['INCOME'].value_counts()"
   ]
  },
  {
   "cell_type": "code",
   "execution_count": null,
   "id": "80914b2d",
   "metadata": {},
   "outputs": [],
   "source": [
    "numerical['INCOME'].dtypes"
   ]
  },
  {
   "cell_type": "code",
   "execution_count": null,
   "id": "d2c98f27",
   "metadata": {
    "colab": {
     "base_uri": "https://localhost:8080/",
     "height": 333
    },
    "id": "1W3vqJD8gulo",
    "outputId": "419f5e91-6843-463c-93a9-ef3af4fb9850"
   },
   "outputs": [],
   "source": [
    "sns.distplot(numerical[numerical['CLUSTER2'].isna()==False]['CLUSTER2']) \n",
    "plt.show()"
   ]
  },
  {
   "cell_type": "code",
   "execution_count": null,
   "id": "72b61285",
   "metadata": {
    "scrolled": true
   },
   "outputs": [],
   "source": [
    "numerical['CLUSTER2'].value_counts(dropna=False)"
   ]
  },
  {
   "cell_type": "code",
   "execution_count": null,
   "id": "26332852",
   "metadata": {},
   "outputs": [],
   "source": [
    "np.mean(numerical['CLUSTER2'])"
   ]
  },
  {
   "cell_type": "code",
   "execution_count": null,
   "id": "b4ea37ce",
   "metadata": {
    "id": "U2ZyvFH8gulo"
   },
   "outputs": [],
   "source": [
    "numerical['CLUSTER2'] = numerical['CLUSTER2'].fillna(np.ceil(np.mean(numerical['CLUSTER2'])))\n"
   ]
  },
  {
   "cell_type": "code",
   "execution_count": null,
   "id": "dcc2f435",
   "metadata": {},
   "outputs": [],
   "source": [
    "np.ceil(np.mean(numerical['CLUSTER2']))"
   ]
  },
  {
   "cell_type": "code",
   "execution_count": null,
   "id": "d19d601d",
   "metadata": {},
   "outputs": [],
   "source": [
    "sns.distplot(numerical['CLUSTER2']) \n",
    "plt.show()"
   ]
  },
  {
   "cell_type": "markdown",
   "id": "926ff310",
   "metadata": {
    "id": "r9IW4z4LFI2E"
   },
   "source": [
    "### Activity 2.3"
   ]
  },
  {
   "cell_type": "markdown",
   "id": "e62f8921",
   "metadata": {},
   "source": [
    "Check if there are any other null values in the numerical data.\n",
    "Clean the columns WEALTH2 and TIMELAG. Use appropriate method to fill the null values in these columns."
   ]
  },
  {
   "cell_type": "code",
   "execution_count": null,
   "id": "b6c77e78",
   "metadata": {
    "scrolled": true
   },
   "outputs": [],
   "source": [
    "numerical[numerical.columns[numerical.isna().any()]]"
   ]
  },
  {
   "cell_type": "code",
   "execution_count": null,
   "id": "5261a71f",
   "metadata": {},
   "outputs": [],
   "source": [
    "numerical['WEALTH2'].value_counts(dropna=False)"
   ]
  },
  {
   "cell_type": "code",
   "execution_count": null,
   "id": "e7de56f4",
   "metadata": {},
   "outputs": [],
   "source": [
    "numerical['WEALTH2'].dtypes"
   ]
  },
  {
   "cell_type": "code",
   "execution_count": null,
   "id": "5670be68",
   "metadata": {},
   "outputs": [],
   "source": [
    "numerical['WEALTH2'].mean()"
   ]
  },
  {
   "cell_type": "code",
   "execution_count": null,
   "id": "ca4ae86b",
   "metadata": {},
   "outputs": [],
   "source": [
    "numerical['WEALTH2'] = numerical['WEALTH2'].fillna(5.0)\n",
    "\n",
    "# replace NaNs with the closest value to mean."
   ]
  },
  {
   "cell_type": "code",
   "execution_count": null,
   "id": "a1438ea5",
   "metadata": {},
   "outputs": [],
   "source": [
    "numerical['WEALTH2'].value_counts(dropna=False)"
   ]
  },
  {
   "cell_type": "code",
   "execution_count": null,
   "id": "67cf2f9a",
   "metadata": {},
   "outputs": [],
   "source": [
    "numerical['TIMELAG'].value_counts(dropna=False)"
   ]
  },
  {
   "cell_type": "code",
   "execution_count": null,
   "id": "73e68424",
   "metadata": {},
   "outputs": [],
   "source": [
    "numerical['TIMELAG'].dtypes"
   ]
  },
  {
   "cell_type": "code",
   "execution_count": null,
   "id": "d71c3473",
   "metadata": {},
   "outputs": [],
   "source": [
    "numerical['TIMELAG'].median()"
   ]
  },
  {
   "cell_type": "code",
   "execution_count": null,
   "id": "9f70fc66",
   "metadata": {},
   "outputs": [],
   "source": [
    "numerical['TIMELAG'] = numerical['TIMELAG'].fillna(6.0)\n",
    "# median value to replace because there are so many outliers in this column.\n"
   ]
  },
  {
   "cell_type": "code",
   "execution_count": null,
   "id": "9c907339",
   "metadata": {},
   "outputs": [],
   "source": [
    "numerical['TIMELAG'].value_counts(dropna=False)"
   ]
  },
  {
   "cell_type": "code",
   "execution_count": null,
   "id": "7a002d6c",
   "metadata": {
    "colab": {
     "base_uri": "https://localhost:8080/",
     "height": 333
    },
    "id": "qtJ5qRhYFK9X",
    "outputId": "cc33b815-3ead-4fcd-f2de-f274d358abc6"
   },
   "outputs": [],
   "source": [
    "sns.distplot(numerical[numerical['WEALTH2'].isna()==False]['WEALTH2']) \n",
    "plt.show()"
   ]
  },
  {
   "cell_type": "code",
   "execution_count": null,
   "id": "9212040d",
   "metadata": {
    "id": "dVuXF_V0FOxv"
   },
   "outputs": [],
   "source": [
    "numerical['WEALTH2'] = numerical['WEALTH2'].astype('object')\n",
    "numerical['WEALTH2'] = numerical['WEALTH2'].fillna(5.0) # median"
   ]
  },
  {
   "cell_type": "code",
   "execution_count": null,
   "id": "3ad81c42",
   "metadata": {
    "colab": {
     "base_uri": "https://localhost:8080/",
     "height": 337
    },
    "id": "cDIMOE_-FWSM",
    "outputId": "76e8d75c-7925-4227-ef20-c65959fd31be"
   },
   "outputs": [],
   "source": [
    "sns.distplot(numerical[numerical['TIMELAG'].isna()==False]['TIMELAG']) \n",
    "plt.show()"
   ]
  },
  {
   "cell_type": "code",
   "execution_count": null,
   "id": "72f77bf0",
   "metadata": {
    "id": "PiUs_3Ndgulo"
   },
   "outputs": [],
   "source": [
    "numerical['TIMELAG'] = numerical['TIMELAG'].fillna(np.ceil(np.mean(numerical['TIMELAG'])))\n"
   ]
  },
  {
   "cell_type": "code",
   "execution_count": null,
   "id": "81c03b1d",
   "metadata": {},
   "outputs": [],
   "source": [
    "sns.distplot(numerical['TIMELAG']) \n",
    "plt.show()"
   ]
  },
  {
   "cell_type": "markdown",
   "id": "db46c7f5",
   "metadata": {
    "id": "scCH-gQdF10d"
   },
   "source": [
    "# Lab 2"
   ]
  },
  {
   "cell_type": "markdown",
   "id": "717c5f29",
   "metadata": {},
   "source": [
    "# Lab | Feature engineering"
   ]
  },
  {
   "cell_type": "markdown",
   "id": "320d7031",
   "metadata": {},
   "source": [
    "Here we will work on cleaning some of the other columns in the dataset using the techniques that we used before in the lessons.\n",
    "\n",
    "Check for null values in the numerical columns.\n",
    "Use appropriate methods to clean the columns GEOCODE2, WEALTH1, ADI, DMA,and MSA.\n",
    "Use appropriate EDA technique where ever necessary."
   ]
  },
  {
   "cell_type": "code",
   "execution_count": null,
   "id": "b037e2ba",
   "metadata": {},
   "outputs": [],
   "source": [
    "numerical = data.select_dtypes(np.number) # numerical dataframe of data"
   ]
  },
  {
   "cell_type": "code",
   "execution_count": null,
   "id": "9451ba4c",
   "metadata": {},
   "outputs": [],
   "source": [
    "# fraction of null values in columns of numerical dataframe\n",
    "nulls_percent_df = pd.DataFrame(numerical.isna().sum()/len(numerical)).reset_index() \n",
    "nulls_percent_df.columns = ['column_name', 'nulls_percentage']\n",
    "nulls_percent_df"
   ]
  },
  {
   "cell_type": "code",
   "execution_count": null,
   "id": "1877f308",
   "metadata": {},
   "outputs": [],
   "source": [
    "nulls_percent_df[nulls_percent_df['nulls_percentage']!=0].head(50)"
   ]
  },
  {
   "cell_type": "code",
   "execution_count": null,
   "id": "84363d5e",
   "metadata": {},
   "outputs": [],
   "source": [
    "nulls_percent_df[nulls_percent_df['nulls_percentage']!=0].tail(50)"
   ]
  },
  {
   "cell_type": "markdown",
   "id": "353695ef",
   "metadata": {},
   "source": [
    "## Wealth1 column"
   ]
  },
  {
   "cell_type": "code",
   "execution_count": null,
   "id": "a7e39e45",
   "metadata": {},
   "outputs": [],
   "source": [
    "sns.distplot(numerical['WEALTH1'])"
   ]
  },
  {
   "cell_type": "code",
   "execution_count": null,
   "id": "ab335dd3",
   "metadata": {
    "scrolled": true
   },
   "outputs": [],
   "source": [
    "data['WEALTH1'].value_counts(dropna=False) # wealth rating"
   ]
  },
  {
   "cell_type": "code",
   "execution_count": null,
   "id": "41058aaa",
   "metadata": {},
   "outputs": [],
   "source": [
    "data['WEALTH1'].dtypes"
   ]
  },
  {
   "cell_type": "code",
   "execution_count": null,
   "id": "12f440f9",
   "metadata": {},
   "outputs": [],
   "source": [
    "data['WEALTH1'].mean()"
   ]
  },
  {
   "cell_type": "code",
   "execution_count": null,
   "id": "7b172afd",
   "metadata": {},
   "outputs": [],
   "source": [
    "data['WEALTH1'] = data['WEALTH1'].fillna(5.0)\n",
    "\n",
    "# replace NaNs with the closest value to mean."
   ]
  },
  {
   "cell_type": "code",
   "execution_count": null,
   "id": "d5d2c7a4",
   "metadata": {
    "scrolled": true
   },
   "outputs": [],
   "source": [
    "data['WEALTH1'].value_counts(dropna=False)"
   ]
  },
  {
   "cell_type": "markdown",
   "id": "ba419e60",
   "metadata": {},
   "source": [
    "## ADI column"
   ]
  },
  {
   "cell_type": "code",
   "execution_count": null,
   "id": "b3118f94",
   "metadata": {},
   "outputs": [],
   "source": [
    "sns.distplot(data['ADI'])"
   ]
  },
  {
   "cell_type": "code",
   "execution_count": null,
   "id": "2ba16066",
   "metadata": {
    "scrolled": false
   },
   "outputs": [],
   "source": [
    "data['ADI'].value_counts(dropna=False)"
   ]
  },
  {
   "cell_type": "code",
   "execution_count": null,
   "id": "fd45be58",
   "metadata": {},
   "outputs": [],
   "source": [
    "data['ADI'].isna().sum()"
   ]
  },
  {
   "cell_type": "code",
   "execution_count": null,
   "id": "b06f3348",
   "metadata": {},
   "outputs": [],
   "source": [
    "data['ADI'].dtypes"
   ]
  },
  {
   "cell_type": "code",
   "execution_count": null,
   "id": "4acfaec3",
   "metadata": {},
   "outputs": [],
   "source": [
    "data['ADI'].mean()"
   ]
  },
  {
   "cell_type": "code",
   "execution_count": null,
   "id": "4bdda865",
   "metadata": {},
   "outputs": [],
   "source": [
    "data['ADI'] = data['ADI'].fillna(187)\n",
    "\n",
    "# replace NaNs with the closest value to mean."
   ]
  },
  {
   "cell_type": "code",
   "execution_count": null,
   "id": "1da7885c",
   "metadata": {
    "scrolled": true
   },
   "outputs": [],
   "source": [
    "data['ADI'].value_counts(dropna=False)"
   ]
  },
  {
   "cell_type": "code",
   "execution_count": null,
   "id": "0004657b",
   "metadata": {},
   "outputs": [],
   "source": [
    "data['ADI'].isna().sum()"
   ]
  },
  {
   "cell_type": "markdown",
   "id": "ffdbf648",
   "metadata": {},
   "source": [
    "## GEOCODE2 column"
   ]
  },
  {
   "cell_type": "code",
   "execution_count": null,
   "id": "7780be78",
   "metadata": {},
   "outputs": [],
   "source": [
    "data['GEOCODE2'].dtypes # GEOCODE2 column does not belong to numerical dataframe. \n",
    "# data types are object."
   ]
  },
  {
   "cell_type": "code",
   "execution_count": null,
   "id": "7cbe532a",
   "metadata": {
    "scrolled": true
   },
   "outputs": [],
   "source": [
    "data['GEOCODE2'].head(10) # Country size code"
   ]
  },
  {
   "cell_type": "code",
   "execution_count": null,
   "id": "b7994550",
   "metadata": {},
   "outputs": [],
   "source": [
    "data['GEOCODE2'].value_counts()"
   ]
  },
  {
   "cell_type": "code",
   "execution_count": null,
   "id": "7e8ef4e9",
   "metadata": {},
   "outputs": [],
   "source": [
    "data['GEOCODE2'].isna().sum() # There are 132 NaN values in GEOCODE2 column."
   ]
  },
  {
   "cell_type": "code",
   "execution_count": null,
   "id": "7c9a6b57",
   "metadata": {},
   "outputs": [],
   "source": [
    "# data['GEOCODE2'] = data['GEOCODE2'].replace(r'^\\s*$', np.nan, regex=True)\n",
    "\n",
    "data['GEOCODE2'] = data['GEOCODE2'].replace(r'^\\s*$', 'A', regex=True)\n",
    "\n",
    "# replace spaces with the most frequent value (A)"
   ]
  },
  {
   "cell_type": "code",
   "execution_count": null,
   "id": "6c1a1cfa",
   "metadata": {},
   "outputs": [],
   "source": [
    "data['GEOCODE2'].value_counts(dropna=False)"
   ]
  },
  {
   "cell_type": "code",
   "execution_count": null,
   "id": "fe8b57a4",
   "metadata": {},
   "outputs": [],
   "source": [
    "data['GEOCODE2'] = data['GEOCODE2'].replace(np.nan, 'A', regex=True)\n",
    "# replace spaces with the most frequent value (A)"
   ]
  },
  {
   "cell_type": "code",
   "execution_count": null,
   "id": "2e0fd4bc",
   "metadata": {
    "scrolled": true
   },
   "outputs": [],
   "source": [
    "data['GEOCODE2'].value_counts(dropna=False)"
   ]
  },
  {
   "cell_type": "code",
   "execution_count": null,
   "id": "1a489830",
   "metadata": {},
   "outputs": [],
   "source": [
    "data['GEOCODE2'].isna().sum()"
   ]
  },
  {
   "cell_type": "markdown",
   "id": "a2b4f805",
   "metadata": {},
   "source": [
    "## DMA column"
   ]
  },
  {
   "cell_type": "code",
   "execution_count": null,
   "id": "b0df55d6",
   "metadata": {},
   "outputs": [],
   "source": [
    "sns.distplot(data['DMA'])"
   ]
  },
  {
   "cell_type": "code",
   "execution_count": null,
   "id": "b2fae387",
   "metadata": {},
   "outputs": [],
   "source": [
    "data['DMA'].dtypes "
   ]
  },
  {
   "cell_type": "code",
   "execution_count": null,
   "id": "0b1c9567",
   "metadata": {
    "scrolled": true
   },
   "outputs": [],
   "source": [
    "data['DMA'].head(10) # Country size code"
   ]
  },
  {
   "cell_type": "code",
   "execution_count": null,
   "id": "871bcee7",
   "metadata": {},
   "outputs": [],
   "source": [
    "data['DMA'].value_counts(dropna=False)"
   ]
  },
  {
   "cell_type": "code",
   "execution_count": null,
   "id": "1f8dc4fc",
   "metadata": {},
   "outputs": [],
   "source": [
    "data['DMA'].isna().sum() # There are 132 NaN values in DMA column."
   ]
  },
  {
   "cell_type": "code",
   "execution_count": null,
   "id": "0b0926a1",
   "metadata": {},
   "outputs": [],
   "source": [
    "data['DMA'].mean()"
   ]
  },
  {
   "cell_type": "code",
   "execution_count": null,
   "id": "86b0e740",
   "metadata": {},
   "outputs": [],
   "source": [
    "data['DMA'] = data['DMA'].replace(np.nan, 664, regex=True)\n",
    "\n",
    "# replace NaNs with the closest value to the mean value of column"
   ]
  },
  {
   "cell_type": "code",
   "execution_count": null,
   "id": "e877cf7c",
   "metadata": {},
   "outputs": [],
   "source": [
    "data['DMA'].value_counts(dropna=False)"
   ]
  },
  {
   "cell_type": "code",
   "execution_count": null,
   "id": "b743d78f",
   "metadata": {},
   "outputs": [],
   "source": [
    "data['DMA'].isna().sum()"
   ]
  },
  {
   "cell_type": "markdown",
   "id": "85c51ab4",
   "metadata": {},
   "source": [
    "## MSA column"
   ]
  },
  {
   "cell_type": "code",
   "execution_count": null,
   "id": "1800d462",
   "metadata": {},
   "outputs": [],
   "source": [
    "sns.distplot(data['MSA'])"
   ]
  },
  {
   "cell_type": "code",
   "execution_count": null,
   "id": "27a61d75",
   "metadata": {},
   "outputs": [],
   "source": [
    "data['MSA'].dtypes "
   ]
  },
  {
   "cell_type": "code",
   "execution_count": null,
   "id": "3534935c",
   "metadata": {
    "scrolled": true
   },
   "outputs": [],
   "source": [
    "data['MSA'].head(10) # Country size code"
   ]
  },
  {
   "cell_type": "code",
   "execution_count": null,
   "id": "8639e258",
   "metadata": {},
   "outputs": [],
   "source": [
    "data['MSA'].value_counts(dropna=False)"
   ]
  },
  {
   "cell_type": "code",
   "execution_count": null,
   "id": "7bdb99b9",
   "metadata": {},
   "outputs": [],
   "source": [
    "# There 21333 0.0 values. They can be replaced with median to get rid of the effect of outliers."
   ]
  },
  {
   "cell_type": "code",
   "execution_count": null,
   "id": "32c8e8b4",
   "metadata": {},
   "outputs": [],
   "source": [
    "data['MSA'].isna().sum() # There are 132 NaN values in MSA column."
   ]
  },
  {
   "cell_type": "code",
   "execution_count": null,
   "id": "9069fb93",
   "metadata": {},
   "outputs": [],
   "source": [
    "data['MSA'].median()"
   ]
  },
  {
   "cell_type": "code",
   "execution_count": null,
   "id": "f2fd65de",
   "metadata": {},
   "outputs": [],
   "source": [
    "data['MSA'] = data['MSA'].replace(0.0, 3350.0, regex=True)\n",
    "\n",
    "# replace spaces with median"
   ]
  },
  {
   "cell_type": "code",
   "execution_count": null,
   "id": "f589a3c6",
   "metadata": {
    "scrolled": false
   },
   "outputs": [],
   "source": [
    "data['MSA'].value_counts(dropna=False)"
   ]
  },
  {
   "cell_type": "code",
   "execution_count": null,
   "id": "cd636731",
   "metadata": {},
   "outputs": [],
   "source": [
    "data['MSA'].isnull().sum().sum()"
   ]
  },
  {
   "cell_type": "code",
   "execution_count": null,
   "id": "919a54e7",
   "metadata": {},
   "outputs": [],
   "source": [
    "data['MSA'] = data['MSA'].replace(np.nan, 3350.0, regex=True)"
   ]
  },
  {
   "cell_type": "code",
   "execution_count": null,
   "id": "9e4e1f43",
   "metadata": {},
   "outputs": [],
   "source": [
    "data['MSA'].isnull().sum().sum()"
   ]
  },
  {
   "cell_type": "code",
   "execution_count": null,
   "id": "85fa7f14",
   "metadata": {},
   "outputs": [],
   "source": [
    "data.to_csv('learningSet_partially_cleaned.csv')"
   ]
  },
  {
   "cell_type": "markdown",
   "id": "c77d4fa8",
   "metadata": {
    "id": "rqO5sK2WFbsO"
   },
   "source": [
    "# Wrapping up"
   ]
  },
  {
   "cell_type": "code",
   "execution_count": null,
   "id": "29b48ee9",
   "metadata": {
    "id": "byuE9jXcHG75"
   },
   "outputs": [],
   "source": [
    "numerical = numerical.drop(columns=drop_list)"
   ]
  },
  {
   "cell_type": "code",
   "execution_count": null,
   "id": "435188c7",
   "metadata": {
    "colab": {
     "base_uri": "https://localhost:8080/",
     "height": 204
    },
    "id": "RYrkXVWTgulp",
    "outputId": "452254a6-9c5f-4046-8700-ce0fd5b13a5a"
   },
   "outputs": [],
   "source": [
    "df = pd.DataFrame(numerical.isna().sum()).reset_index()\n",
    "df.columns = ['column_name', 'nulls']\n",
    "df[df['nulls']>0]"
   ]
  },
  {
   "cell_type": "code",
   "execution_count": null,
   "id": "de8208de",
   "metadata": {
    "id": "gsyS_PAygulp"
   },
   "outputs": [],
   "source": [
    "numerical.to_csv('numerical7_02.csv')\n",
    "categorical.to_csv('categorical7_02.csv')"
   ]
  },
  {
   "cell_type": "code",
   "execution_count": null,
   "id": "a364d142",
   "metadata": {
    "id": "t5_MmpGngulp"
   },
   "outputs": [],
   "source": [
    "Y.to_csv('target7_02.csv')"
   ]
  },
  {
   "cell_type": "code",
   "execution_count": null,
   "id": "9735f3f9",
   "metadata": {
    "id": "YvFKZFj5gulp"
   },
   "outputs": [],
   "source": [
    "# alternative:\n",
    "# numerical.to_pickle('numerical7_02.p')\n",
    "# categorical.to_pickle('categorical7_02.p')\n",
    "# Y.to_pickle('target7_02.p')"
   ]
  },
  {
   "cell_type": "code",
   "execution_count": null,
   "id": "b76d7962",
   "metadata": {},
   "outputs": [],
   "source": []
  }
 ],
 "metadata": {
  "kernelspec": {
   "display_name": "Python 3 (ipykernel)",
   "language": "python",
   "name": "python3"
  },
  "language_info": {
   "codemirror_mode": {
    "name": "ipython",
    "version": 3
   },
   "file_extension": ".py",
   "mimetype": "text/x-python",
   "name": "python",
   "nbconvert_exporter": "python",
   "pygments_lexer": "ipython3",
   "version": "3.9.12"
  },
  "toc": {
   "base_numbering": 1,
   "nav_menu": {},
   "number_sections": true,
   "sideBar": true,
   "skip_h1_title": false,
   "title_cell": "Table of Contents",
   "title_sidebar": "Contents",
   "toc_cell": false,
   "toc_position": {},
   "toc_section_display": true,
   "toc_window_display": true
  }
 },
 "nbformat": 4,
 "nbformat_minor": 5
}
